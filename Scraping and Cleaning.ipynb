{
 "cells": [
  {
   "cell_type": "code",
   "execution_count": 1,
   "metadata": {},
   "outputs": [],
   "source": [
    "#imports\n",
    "import metapy\n",
    "import csv\n",
    "import requests\n",
    "import re\n",
    "from bs4 import BeautifulSoup,Comment\n",
    "from selenium import webdriver\n",
    "import time\n",
    "import json\n",
    "import nltk\n",
    "import pandas as pd"
   ]
  },
  {
   "cell_type": "code",
   "execution_count": 2,
   "metadata": {},
   "outputs": [],
   "source": [
    "#Function for calling soup\n",
    "def func(url):\n",
    "    response = requests.get(url)\n",
    "    html = response.content\n",
    "    soup=BeautifulSoup(html,'lxml')\n",
    "    return soup"
   ]
  },
  {
   "cell_type": "code",
   "execution_count": 3,
   "metadata": {},
   "outputs": [],
   "source": [
    "def uncomment(table):\n",
    "    text1 = table.findAll(text=lambda x:isinstance(x, Comment))\n",
    "    #comments = soup.findAll(text=lambda text:isinstance(text, Comment))\n",
    "    for comments in text1:\n",
    "       commentsoup = BeautifulSoup(comments, \"lxml\")\n",
    "       blah= commentsoup.find('td')\n",
    "       if(blah):\n",
    "        comments.insert_after(commentsoup.find('body').find('td'))\n",
    "       comments.extract()\n",
    "    return table"
   ]
  },
  {
   "cell_type": "code",
   "execution_count": 4,
   "metadata": {},
   "outputs": [],
   "source": [
    "def make_list(table):\n",
    "    length=len(table.find_all(\"td\",text=True))\n",
    "    val_list=[]\n",
    "    i=0\n",
    "    j=0\n",
    "    for i in range(0,length,6):\n",
    "        val=[]\n",
    "        year = (table.find_all(\"td\",text=True)[i].text)\n",
    "        #print(\"1:\"+str(i))\n",
    "        course_name = table.find_all(\"a\",text=True)[j].text.encode('utf-8').strip()\n",
    "        j+=1\n",
    "        i+=2\n",
    "        #print(\"2:\"+str(i))\n",
    "        term = (table.find_all(\"td\",text=True)[i].text.encode('utf-8').strip())\n",
    "        i+=1\n",
    "        #print(\"3:\"+str(i))\n",
    "        course = (table.find_all(\"td\",text=True)[i].text.encode('utf-8').strip())\n",
    "        i+=1\n",
    "        #print(\"4:\"+str(i))\n",
    "        description = (table.find_all(\"td\",text=True)[i].text.encode('utf-8').strip())\n",
    "        i+=1\n",
    "        #print(\"5:\"+str(i))\n",
    "        #print(course)\n",
    "        if(course == \"IS 590\"):\n",
    "            continue\n",
    "        val = [year,term,course,course_name,description]\n",
    "        val_list.append(val)\n",
    "    return val_list"
   ]
  },
  {
   "cell_type": "code",
   "execution_count": 5,
   "metadata": {},
   "outputs": [],
   "source": [
    "def write_to_file(val_list,name):\n",
    "    with open (name,'w',newline='') as file:\n",
    "        writer=csv.writer(file)\n",
    "        writer.writerow([\"Year\",\"Term\",\"Course_ID\",\"Course_Name\",\"Course_Description\"])\n",
    "        for row in val_list:\n",
    "            writer.writerow(row)"
   ]
  },
  {
   "cell_type": "code",
   "execution_count": 6,
   "metadata": {},
   "outputs": [],
   "source": [
    "import os\n",
    "def merge_csv(list_files):\n",
    "    try:\n",
    "        os.remove(\"final.csv\")\n",
    "    except OSError:\n",
    "        pass\n",
    "    fout = open(\"final.csv\",\"a\")\n",
    "    for line in open(list_files[0]):\n",
    "        fout.write(line)\n",
    "    for l in range(1,len(list_files)):\n",
    "        f = open(list_files[l])\n",
    "        next(f)\n",
    "        for l in f:\n",
    "            fout.write(l)\n",
    "        f.close()\n",
    "    fout.close()"
   ]
  },
  {
   "cell_type": "code",
   "execution_count": 7,
   "metadata": {},
   "outputs": [],
   "source": [
    "list_files = [\"engg_file.csv\",\"ischool_file.csv\",\"giesbusiness_file.csv\",\"stats_file.csv\",\"is590ischool_file.csv\"]"
   ]
  },
  {
   "cell_type": "code",
   "execution_count": 8,
   "metadata": {},
   "outputs": [],
   "source": [
    "#For Engineering\n",
    "url = \"https://courses.illinois.edu/search?year=2018&term=fall&keyword=&keywordType=qs&instructor=&collegeCode=KP&subjectCode=&creditHour=&degreeAtt=&courseLevel=&genedCode1=&genedCode2=&genedCode3=&genedType=all&partOfTerm=&_online=on&_open=on&_evenings=on\"\n",
    "soup = func(url)\n",
    "table = soup.find('table', attrs={'id': 'search-result-dt'})\n",
    "table = uncomment(table)\n",
    "val_list = make_list(table)\n",
    "write_to_file(val_list,\"engg_file.csv\")"
   ]
  },
  {
   "cell_type": "code",
   "execution_count": null,
   "metadata": {},
   "outputs": [],
   "source": [
    "#For iSchool\n",
    "url = \"https://courses.illinois.edu/search?year=2018&term=fall&keyword=&keywordType=qs&instructor=&collegeCode=LP&subjectCode=&creditHour=&degreeAtt=&courseLevel=&genedCode1=&genedCode2=&genedCode3=&genedType=all&partOfTerm=&_online=on&_open=on&_evenings=on\"\n",
    "soup = func(url)\n",
    "table = soup.find('table', attrs={'id': 'search-result-dt'})\n",
    "table = uncomment(table)\n",
    "val_list = make_list(table)\n",
    "write_to_file(val_list,\"ischool_file.csv\")"
   ]
  },
  {
   "cell_type": "code",
   "execution_count": null,
   "metadata": {},
   "outputs": [],
   "source": [
    "#Business\n",
    "url = \"https://courses.illinois.edu/search?year=2018&term=fall&keyword=&keywordType=qs&instructor=&collegeCode=KM&subjectCode=&creditHour=&degreeAtt=&courseLevel=&genedCode1=&genedCode2=&genedCode3=&genedType=all&partOfTerm=&_online=on&_open=on&_evenings=on\"\n",
    "soup = func(url)\n",
    "table = soup.find('table', attrs={'id': 'search-result-dt'})\n",
    "table = uncomment(table)\n",
    "val_list = make_list(table)\n",
    "write_to_file(val_list,\"giesbusiness_file.csv\")"
   ]
  },
  {
   "cell_type": "code",
   "execution_count": null,
   "metadata": {},
   "outputs": [],
   "source": [
    "#Stats\n",
    "url = \"https://courses.illinois.edu/search?year=2018&term=fall&keyword=&keywordType=qs&instructor=&collegeCode=KV&subjectCode=STAT&creditHour=&degreeAtt=&courseLevel=&genedCode1=&genedCode2=&genedCode3=&genedType=all&partOfTerm=&_online=on&_open=on&_evenings=on\"\n",
    "soup = func(url)\n",
    "table = soup.find('table', attrs={'id': 'search-result-dt'})\n",
    "#print(table)\n",
    "table = uncomment(table)\n",
    "val_list = make_list(table)\n",
    "write_to_file(val_list,\"stats_file.csv\")"
   ]
  },
  {
   "cell_type": "code",
   "execution_count": null,
   "metadata": {},
   "outputs": [],
   "source": [
    "url = \"https://courses.illinois.edu/search/schedule/2018/fall/IS/590?sess=\"\n",
    "soup=func(url)\n",
    "#print(soup.prettify())\n",
    "table = soup.find('script',attrs={'type' : 'text/javascript'})\n",
    "jsonval ='[%s]' %(table.text.split('[',1)[1].rsplit(']',1)[0],)\n",
    "jsonvalue = '{%s}' %(jsonval.split('{',1)[1].rsplit('}',1)[0],) \n",
    "value = json.loads(jsonval)\n",
    "val_list=[]\n",
    "for i in range(len(value)):\n",
    "    #regex = re.compile('<.?*>')\n",
    "    regex = re.compile('<[^<]+?>',re.UNICODE)\n",
    "    #regex.encode('utf-8').strip()\n",
    "    section = re.sub(regex, '', value[i][\"section\"],re.UNICODE)\n",
    "    #print(value[i][\"section\"].)\n",
    "    course_no =  \"IS 590\" + section\n",
    "    course_name = value[i]['sectionTitle'].encode('utf-8').strip()\n",
    "    year =\"2018\"\n",
    "    term = \"Fall\"\n",
    "    course_info = value[i][\"info\"].encode('utf-8').strip()\n",
    "    val = [year,term,course_no,course_name,course_info]\n",
    "    val_list.append(val)\n",
    "write_to_file(val_list,\"is590ischool_file.csv\")\n",
    "#print(table.text)"
   ]
  },
  {
   "cell_type": "code",
   "execution_count": null,
   "metadata": {},
   "outputs": [],
   "source": [
    "merge_csv(list_files)"
   ]
  },
  {
   "cell_type": "code",
   "execution_count": null,
   "metadata": {},
   "outputs": [],
   "source": [
    "#Checking formats\n",
    "df = pd.read_csv('is590ischool_file.csv')\n",
    "df = pd.read_csv('stats_file.csv')\n",
    "df = pd.read_csv('giesbusiness_file.csv')\n",
    "df = pd.read_csv('ischool_file.csv')\n",
    "df = pd.read_csv('engg_file.csv')\n",
    "df = pd.read_csv('final.csv')"
   ]
  }
 ],
 "metadata": {
  "kernelspec": {
   "display_name": "Python 3",
   "language": "python",
   "name": "python3"
  },
  "language_info": {
   "codemirror_mode": {
    "name": "ipython",
    "version": 3
   },
   "file_extension": ".py",
   "mimetype": "text/x-python",
   "name": "python",
   "nbconvert_exporter": "python",
   "pygments_lexer": "ipython3",
   "version": "3.6.4"
  }
 },
 "nbformat": 4,
 "nbformat_minor": 2
}
